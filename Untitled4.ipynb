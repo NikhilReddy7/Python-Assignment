{
  "nbformat": 4,
  "nbformat_minor": 0,
  "metadata": {
    "colab": {
      "name": "Untitled4.ipynb",
      "provenance": [],
      "collapsed_sections": [],
      "authorship_tag": "ABX9TyM0BeqbAMwWp+2ldkoHJzKR",
      "include_colab_link": true
    },
    "kernelspec": {
      "name": "python3",
      "display_name": "Python 3"
    }
  },
  "cells": [
    {
      "cell_type": "markdown",
      "metadata": {
        "id": "view-in-github",
        "colab_type": "text"
      },
      "source": [
        "<a href=\"https://colab.research.google.com/github/NikhilReddy7/Python-Assignment/blob/master/Untitled4.ipynb\" target=\"_parent\"><img src=\"https://colab.research.google.com/assets/colab-badge.svg\" alt=\"Open In Colab\"/></a>"
      ]
    },
    {
      "cell_type": "code",
      "metadata": {
        "id": "j9TgHiiCEvHB",
        "colab_type": "code",
        "colab": {
          "base_uri": "https://localhost:8080/",
          "height": 54
        },
        "outputId": "0ebf1838-0637-4b14-de97-b2b91c5fbc91"
      },
      "source": [
        "#List[]\n",
        "# List is a collection which is ordered and changeable and allows duplicate members\n",
        "#List Methods:-\n",
        "#append(),clear(),copy(),count(),extend(),index(),insert(),pop(),remove(),reverse(),sort()\n",
        "#let's create a list\n",
        "BCA=[\"naveen\",\"sampath\",\"kiran\",\"rinish\",\"nikhil\"]\n",
        "print(BCA)"
      ],
      "execution_count": null,
      "outputs": [
        {
          "output_type": "stream",
          "text": [
            "['naveen', 'sampath', 'kiran', 'rinish', 'nikhil']\n"
          ],
          "name": "stdout"
        }
      ]
    },
    {
      "cell_type": "code",
      "metadata": {
        "id": "D8NcnjO5GJ72",
        "colab_type": "code",
        "colab": {
          "base_uri": "https://localhost:8080/",
          "height": 54
        },
        "outputId": "2366d9c5-79cd-48c4-b3e3-0309bd8383b0"
      },
      "source": [
        "#Dictionaries{}\n",
        "#a dictionaries is a collection which is unordered,changeable and indexed\n",
        "#Dictionary Methods:-\n",
        "#clear(),copy(),fromkeys(),get(),items(),keys(),update(),pop()\n",
        "BCA={\"aditya\":\"gajuwaka\",\"unity\":\"vizag\"}\n",
        "print(BCA)"
      ],
      "execution_count": null,
      "outputs": [
        {
          "output_type": "stream",
          "text": [
            "{'aditya': 'gajuwaka', 'unity': 'vizag'}\n"
          ],
          "name": "stdout"
        }
      ]
    },
    {
      "cell_type": "code",
      "metadata": {
        "id": "VYCL0MbGICMe",
        "colab_type": "code",
        "colab": {
          "base_uri": "https://localhost:8080/",
          "height": 34
        },
        "outputId": "7ed4a141-65fb-4f6f-ebd4-b1c7d3a69418"
      },
      "source": [
        "#Sets{}\n",
        "#a set is a collection which is unordered and uninfected\n",
        "#set Methods:-\n",
        "#add(),clear(),copy(), difference(),discard(), intersection(),is sunset(),pop()\n",
        "#let's create a set\n",
        "BCA={\"red\",\"yellow\",\"blue\"}\n",
        "print(BCA)"
      ],
      "execution_count": null,
      "outputs": [
        {
          "output_type": "stream",
          "text": [
            "{'blue', 'yellow', 'red'}\n"
          ],
          "name": "stdout"
        }
      ]
    },
    {
      "cell_type": "code",
      "metadata": {
        "id": "r87ZdsXfJGpZ",
        "colab_type": "code",
        "colab": {
          "base_uri": "https://localhost:8080/",
          "height": 34
        },
        "outputId": "603926d2-cfa6-4909-ebee-1d6d4f83e8f4"
      },
      "source": [
        "#Tuples()\n",
        "#a tuple is a collection which is ordered and unchangeable\n",
        "#tuples Methods:-\n",
        "#count(),index()\n",
        "BCA=(\"red\",\"yellow\",\"blue\")\n",
        "print(BCA)"
      ],
      "execution_count": null,
      "outputs": [
        {
          "output_type": "stream",
          "text": [
            "('red', 'yellow', 'blue')\n"
          ],
          "name": "stdout"
        }
      ]
    },
    {
      "cell_type": "code",
      "metadata": {
        "id": "nglzXeb-J6g3",
        "colab_type": "code",
        "colab": {
          "base_uri": "https://localhost:8080/",
          "height": 34
        },
        "outputId": "3b95565f-b8d1-4ce0-e278-8ff0f07184d2"
      },
      "source": [
        "#string\n",
        "#square brackets can be used to access elements of the string\n",
        "a=\"hello Python\"\n",
        "print(a)"
      ],
      "execution_count": null,
      "outputs": [
        {
          "output_type": "stream",
          "text": [
            "hello Python\n"
          ],
          "name": "stdout"
        }
      ]
    }
  ]
}